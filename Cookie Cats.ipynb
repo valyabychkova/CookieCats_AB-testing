{
 "cells": [
  {
   "cell_type": "markdown",
   "id": "bda664fd",
   "metadata": {},
   "source": [
    "# Игра \"Cookie Cats\""
   ]
  },
  {
   "cell_type": "markdown",
   "id": "6e4f4f04",
   "metadata": {},
   "source": [
    "## О проекте"
   ]
  },
  {
   "cell_type": "markdown",
   "id": "2f8e7075",
   "metadata": {},
   "source": [
    "Cookie Cats популярная мобильная игра, разработанная Tactile Entertainment. Это классическая игра-головоломка в стиле \"соедини три\", в которой игрок должен соединить плитки одного цвета, чтобы очистить игровое поле и выиграть уровень.\n",
    "\n",
    "По мере прохождения уровней игроки будут сталкиваться с воротами, которые заставляют их ждать некоторое время, прежде чем они смогут продвинуться, или совершить покупку в приложении. В этом проекте мы проанализируем результат A/B-теста, в котором первые ворота в Cookie Cats были перенесены с 30-го на 40-ой уровень. Для того, чтобы понять, хорошее это изменение или плохое, сравним такие пользовательские метрики, как наличие активности в 1-ый и 7-ой день после скачивания, а также посмотрим, в каком из случаев игроки склонные проходить больше уровней. "
   ]
  },
  {
   "cell_type": "markdown",
   "id": "cd86f5f3",
   "metadata": {},
   "source": [
    "## Предобработка и исследовательский анализ данных"
   ]
  },
  {
   "cell_type": "code",
   "execution_count": 101,
   "id": "63b2d691",
   "metadata": {},
   "outputs": [],
   "source": [
    "# импорт библиотек\n",
    "import pandas as pd\n",
    "import numpy as np\n",
    "import seaborn as sns\n",
    "from matplotlib import pyplot as plt\n",
    "from statsmodels.stats.proportion import proportions_ztest\n",
    "from scipy.stats import ttest_ind, shapiro, mannwhitneyu\n",
    "import warnings\n",
    "warnings.filterwarnings(\"ignore\")"
   ]
  },
  {
   "cell_type": "markdown",
   "id": "c1b9184d",
   "metadata": {},
   "source": [
    "Загрузим данные и проверим их на предмет наличия пропусков и дубликатов."
   ]
  },
  {
   "cell_type": "code",
   "execution_count": 102,
   "id": "da82d920",
   "metadata": {},
   "outputs": [],
   "source": [
    "# создаём датасет из файла\n",
    "df = pd.read_csv('cookie_cats.csv') "
   ]
  },
  {
   "cell_type": "code",
   "execution_count": 103,
   "id": "f994043c",
   "metadata": {},
   "outputs": [
    {
     "name": "stdout",
     "output_type": "stream",
     "text": [
      "<class 'pandas.core.frame.DataFrame'>\n",
      "RangeIndex: 90189 entries, 0 to 90188\n",
      "Data columns (total 5 columns):\n",
      " #   Column          Non-Null Count  Dtype \n",
      "---  ------          --------------  ----- \n",
      " 0   userid          90189 non-null  int64 \n",
      " 1   version         90189 non-null  object\n",
      " 2   sum_gamerounds  90189 non-null  int64 \n",
      " 3   retention_1     90189 non-null  bool  \n",
      " 4   retention_7     90189 non-null  bool  \n",
      "dtypes: bool(2), int64(2), object(1)\n",
      "memory usage: 2.2+ MB\n",
      "None\n",
      "Число дубликатов 0\n"
     ]
    },
    {
     "data": {
      "text/html": [
       "<div>\n",
       "<style scoped>\n",
       "    .dataframe tbody tr th:only-of-type {\n",
       "        vertical-align: middle;\n",
       "    }\n",
       "\n",
       "    .dataframe tbody tr th {\n",
       "        vertical-align: top;\n",
       "    }\n",
       "\n",
       "    .dataframe thead th {\n",
       "        text-align: right;\n",
       "    }\n",
       "</style>\n",
       "<table border=\"1\" class=\"dataframe\">\n",
       "  <thead>\n",
       "    <tr style=\"text-align: right;\">\n",
       "      <th></th>\n",
       "      <th>userid</th>\n",
       "      <th>version</th>\n",
       "      <th>sum_gamerounds</th>\n",
       "      <th>retention_1</th>\n",
       "      <th>retention_7</th>\n",
       "    </tr>\n",
       "  </thead>\n",
       "  <tbody>\n",
       "    <tr>\n",
       "      <th>0</th>\n",
       "      <td>116</td>\n",
       "      <td>gate_30</td>\n",
       "      <td>3</td>\n",
       "      <td>False</td>\n",
       "      <td>False</td>\n",
       "    </tr>\n",
       "    <tr>\n",
       "      <th>1</th>\n",
       "      <td>337</td>\n",
       "      <td>gate_30</td>\n",
       "      <td>38</td>\n",
       "      <td>True</td>\n",
       "      <td>False</td>\n",
       "    </tr>\n",
       "    <tr>\n",
       "      <th>2</th>\n",
       "      <td>377</td>\n",
       "      <td>gate_40</td>\n",
       "      <td>165</td>\n",
       "      <td>True</td>\n",
       "      <td>False</td>\n",
       "    </tr>\n",
       "    <tr>\n",
       "      <th>3</th>\n",
       "      <td>483</td>\n",
       "      <td>gate_40</td>\n",
       "      <td>1</td>\n",
       "      <td>False</td>\n",
       "      <td>False</td>\n",
       "    </tr>\n",
       "    <tr>\n",
       "      <th>4</th>\n",
       "      <td>488</td>\n",
       "      <td>gate_40</td>\n",
       "      <td>179</td>\n",
       "      <td>True</td>\n",
       "      <td>True</td>\n",
       "    </tr>\n",
       "  </tbody>\n",
       "</table>\n",
       "</div>"
      ],
      "text/plain": [
       "   userid  version  sum_gamerounds  retention_1  retention_7\n",
       "0     116  gate_30               3        False        False\n",
       "1     337  gate_30              38         True        False\n",
       "2     377  gate_40             165         True        False\n",
       "3     483  gate_40               1        False        False\n",
       "4     488  gate_40             179         True         True"
      ]
     },
     "execution_count": 103,
     "metadata": {},
     "output_type": "execute_result"
    }
   ],
   "source": [
    "# информация о датасете\n",
    "print(df.info())\n",
    "\n",
    "# число дубликатов\n",
    "print(f'Число дубликатов {df.duplicated().sum()}')\n",
    "\n",
    "# выводим первые 5 строк\n",
    "df.head()"
   ]
  },
  {
   "cell_type": "markdown",
   "id": "5651f189",
   "metadata": {},
   "source": [
    "В данных нет дубликатов или пропусков. \n",
    "\n",
    "Информация о колонках:\n",
    "- userid - id пользователя\n",
    "- version - место расположения ворот - либо на 30-ом уровне, либо на 40-ом\n",
    "- sum_gameround - число уровней, пройденных игроком за время эксперимента\n",
    "- retention_1 - заходил ли пользователь в игру в 1-ый день после скачивания\n",
    "- retention_7 - заходил ли пользователь в игру в 7-ой день после скачивания\n",
    "\n",
    "Посмотрим, как распределены игроки между версиями и нет ли дубликатов среди id."
   ]
  },
  {
   "cell_type": "code",
   "execution_count": 104,
   "id": "a3fe9234",
   "metadata": {},
   "outputs": [
    {
     "name": "stdout",
     "output_type": "stream",
     "text": [
      "Число дубликатов id: 0\n",
      "Распределение игроков по версиям: version\n",
      "gate_30    44700\n",
      "gate_40    45489\n",
      "Name: userid, dtype: int64\n"
     ]
    }
   ],
   "source": [
    "# проверяем, есть ли дубли id\n",
    "print('Число дубликатов id:', df.duplicated(subset=['userid']).sum())\n",
    "# смотрим, сколько игроков в таблице скачало одну и другую версию\n",
    "print('Распределение игроков по версиям:', df.groupby('version')['userid'].count())"
   ]
  },
  {
   "cell_type": "markdown",
   "id": "c9a51370",
   "metadata": {},
   "source": [
    "Игроки распределены почти поровну между версиями игры.\n",
    "\n",
    "Посмотрим, на боксплот суммы пройденных уровней, построенный по объединённым данным."
   ]
  },
  {
   "cell_type": "code",
   "execution_count": 105,
   "id": "5a74fb35",
   "metadata": {},
   "outputs": [
    {
     "data": {
      "image/png": "[encoded data removed]",
      "text/plain": [
       "<Figure size 432x288 with 1 Axes>"
      ]
     },
     "metadata": {
      "needs_background": "light"
     },
     "output_type": "display_data"
    }
   ],
   "source": [
    "# строим ящик с усами для всех данных о пройденных уровнях\n",
    "sns.boxplot(y=df['sum_gamerounds'])\n",
    "plt.ylabel(\"Сумма пройденных уровней\")\n",
    "plt.show()"
   ]
  },
  {
   "cell_type": "code",
   "execution_count": 106,
   "id": "503d58c9",
   "metadata": {},
   "outputs": [
    {
     "data": {
      "text/plain": [
       "count    90189.000000\n",
       "mean        51.872457\n",
       "std        195.050858\n",
       "min          0.000000\n",
       "25%          5.000000\n",
       "50%         16.000000\n",
       "75%         51.000000\n",
       "max      49854.000000\n",
       "Name: sum_gamerounds, dtype: float64"
      ]
     },
     "execution_count": 106,
     "metadata": {},
     "output_type": "execute_result"
    }
   ],
   "source": [
    "# выодим описание столбца с числом уровней\n",
    "df['sum_gamerounds'].describe()"
   ]
  },
  {
   "cell_type": "markdown",
   "id": "afd983ec",
   "metadata": {},
   "source": [
    "Значение около 50 тысяч - явный выброс. Избавимся это этой строки. "
   ]
  },
  {
   "cell_type": "code",
   "execution_count": 132,
   "id": "f2e0eac5",
   "metadata": {},
   "outputs": [],
   "source": [
    "# удаляем строкус выбросом из таблицы\n",
    "df = df.query('sum_gamerounds != 49854')"
   ]
  },
  {
   "cell_type": "markdown",
   "id": "48121c9e",
   "metadata": {},
   "source": [
    "### Сравнение полных данных для обеих версий игры"
   ]
  },
  {
   "cell_type": "markdown",
   "id": "fd2f990c",
   "metadata": {},
   "source": [
    "Теперь построим такие боксплоты отдельно для каждой версии игры. Интересно, будет ли на них заметен какой-либо сдвиг."
   ]
  },
  {
   "cell_type": "code",
   "execution_count": 108,
   "id": "ada98991",
   "metadata": {},
   "outputs": [
    {
     "data": {
      "image/png": "[encoded data removed]",
      "text/plain": [
       "<Figure size 432x288 with 1 Axes>"
      ]
     },
     "metadata": {
      "needs_background": "light"
     },
     "output_type": "display_data"
    },
    {
     "data": {
      "image/png": "[encoded data removed]",
      "text/plain": [
       "<Figure size 432x288 with 1 Axes>"
      ]
     },
     "metadata": {
      "needs_background": "light"
     },
     "output_type": "display_data"
    },
    {
     "name": "stdout",
     "output_type": "stream",
     "text": [
      "Описание выборки для версии с воротами после 30 уровня\n",
      "count    44699.000000\n",
      "mean        51.342111\n",
      "std        102.057598\n",
      "min          0.000000\n",
      "25%          5.000000\n",
      "50%         17.000000\n",
      "75%         50.000000\n",
      "max       2961.000000\n",
      "Name: sum_gamerounds, dtype: float64\n",
      "Описание выборки для версии с воротами после 40 уровня\n",
      "count    45489.000000\n",
      "mean        51.298776\n",
      "std        103.294416\n",
      "min          0.000000\n",
      "25%          5.000000\n",
      "50%         16.000000\n",
      "75%         52.000000\n",
      "max       2640.000000\n",
      "Name: sum_gamerounds, dtype: float64\n"
     ]
    }
   ],
   "source": [
    "# строим ящик с усами данных о пройденных уровнях отдельно для каждой версии\n",
    "sns.boxplot(x = df['version'], y = df['sum_gamerounds'], color='yellowgreen')\n",
    "plt.ylabel(\"Сумма пройденных уровней\")\n",
    "plt.title('Боксплот выборок пройденных уровней \\n')\n",
    "plt.show()\n",
    "# строим ящик с усами данных о пройденных уровнях отдельно для каждой версии, на этот раз без выбросов\n",
    "sns.boxplot(x = df['version'], y = df['sum_gamerounds'], showfliers=False, color='yellowgreen')\n",
    "plt.ylabel(\"Сумма пройденных уровней\")\n",
    "plt.title('Боксплот выборок пройденных уровней без выбросов \\n')\n",
    "plt.show()\n",
    "# выодим описание столбца с числом уровней отдельно для каждой версии\n",
    "print('Описание выборки для версии с воротами после 30 уровня', df.query('version == \"gate_30\"')['sum_gamerounds'].describe(), sep='\\n')\n",
    "print('Описание выборки для версии с воротами после 40 уровня', df.query('version == \"gate_40\"')['sum_gamerounds'].describe(), sep='\\n')"
   ]
  },
  {
   "cell_type": "markdown",
   "id": "13e3a5fc",
   "metadata": {},
   "source": [
    "Боксплоты выглядят довольно похоже, медианы на уровне 17, и 16 уровней, средние в обоих случаях составляют порядка 51 уровня, в обоих случаях не менее 75% выборки имеет значения < 53 уровней, не менее 25% игроков дошло в лучшем случае до 5 уровня."
   ]
  },
  {
   "cell_type": "markdown",
   "id": "516c9d70",
   "metadata": {},
   "source": [
    "Чтобы детальнее сравнить распределения, построим графики зависимости числа игроков, дошедших до каждого уровня, от номера этого уровня."
   ]
  },
  {
   "cell_type": "code",
   "execution_count": 109,
   "id": "d078e5a4",
   "metadata": {},
   "outputs": [],
   "source": [
    "# группируем и считаем игроков в зависимости от числа пройденных уровней, создаём две таблицы \n",
    "df_30_plot = df.query('version == \"gate_30\"').groupby('sum_gamerounds')['userid'].count()\n",
    "df_40_plot = df.query('version == \"gate_40\"').groupby('sum_gamerounds')['userid'].count()"
   ]
  },
  {
   "cell_type": "code",
   "execution_count": 110,
   "id": "b1ea2035",
   "metadata": {},
   "outputs": [
    {
     "data": {
      "image/png": "[encoded data removed]",
      "text/plain": [
       "<Figure size 720x432 with 1 Axes>"
      ]
     },
     "metadata": {
      "needs_background": "light"
     },
     "output_type": "display_data"
    }
   ],
   "source": [
    "\n",
    "plt.figure(figsize=(10,6))\n",
    "plt.xlim(-1, 80)\n",
    "plt.plot(df_30_plot, color='yellowgreen')\n",
    "plt.plot(df_40_plot, color='blue')\n",
    "plt.title('Распределение игроков по уровням \\n')\n",
    "plt.legend(['Ворота на 30-ом уровне', 'Ворота на 40-ом уровне'])\n",
    "plt.ylabel('Число игроков')\n",
    "plt.xlabel('Число уровней')\n",
    "plt.show()"
   ]
  },
  {
   "cell_type": "markdown",
   "id": "c78067e6",
   "metadata": {},
   "source": [
    "Видно, что около 2000 игроков в каждом случае не играли в игру вообще, ещё больше остановилось после первого уровня, дальше число остановившихся на каждом следующем уровне почти всегда меньше предыдущего значение. Картина похожа на распределение Пуассона.\n",
    "\n",
    "Теперь посчитаем, какая доля от общего числа игроков заходила в игру в 1-ый день и 7-ой дни после скачивания для каждой из версий игры."
   ]
  },
  {
   "cell_type": "code",
   "execution_count": 111,
   "id": "ad68f513",
   "metadata": {},
   "outputs": [
    {
     "name": "stdout",
     "output_type": "stream",
     "text": [
      "Доля активных игроков в первый день после скачивания:\n"
     ]
    },
    {
     "data": {
      "text/html": [
       "<div>\n",
       "<style scoped>\n",
       "    .dataframe tbody tr th:only-of-type {\n",
       "        vertical-align: middle;\n",
       "    }\n",
       "\n",
       "    .dataframe tbody tr th {\n",
       "        vertical-align: top;\n",
       "    }\n",
       "\n",
       "    .dataframe thead th {\n",
       "        text-align: right;\n",
       "    }\n",
       "</style>\n",
       "<table border=\"1\" class=\"dataframe\">\n",
       "  <thead>\n",
       "    <tr style=\"text-align: right;\">\n",
       "      <th></th>\n",
       "      <th>mean</th>\n",
       "    </tr>\n",
       "    <tr>\n",
       "      <th>version</th>\n",
       "      <th></th>\n",
       "    </tr>\n",
       "  </thead>\n",
       "  <tbody>\n",
       "    <tr>\n",
       "      <th>gate_30</th>\n",
       "      <td>0.448198</td>\n",
       "    </tr>\n",
       "    <tr>\n",
       "      <th>gate_40</th>\n",
       "      <td>0.442283</td>\n",
       "    </tr>\n",
       "  </tbody>\n",
       "</table>\n",
       "</div>"
      ],
      "text/plain": [
       "             mean\n",
       "version          \n",
       "gate_30  0.448198\n",
       "gate_40  0.442283"
      ]
     },
     "execution_count": 111,
     "metadata": {},
     "output_type": "execute_result"
    }
   ],
   "source": [
    "# счтааем долю активных игроков в первый день после скачивания\n",
    "print('Доля активных игроков в первый день после скачивания:')\n",
    "df.groupby('version')['retention_1'].agg(['mean'])"
   ]
  },
  {
   "cell_type": "markdown",
   "id": "e22a4c28",
   "metadata": {},
   "source": [
    "В первый день играло меньше половины всех установивших игру. Разница между версиями около 0.6%."
   ]
  },
  {
   "cell_type": "code",
   "execution_count": 112,
   "id": "4dbd0acb",
   "metadata": {},
   "outputs": [
    {
     "name": "stdout",
     "output_type": "stream",
     "text": [
      "Доля активных игроков в седьмой день после скачивания:\n"
     ]
    },
    {
     "data": {
      "text/html": [
       "<div>\n",
       "<style scoped>\n",
       "    .dataframe tbody tr th:only-of-type {\n",
       "        vertical-align: middle;\n",
       "    }\n",
       "\n",
       "    .dataframe tbody tr th {\n",
       "        vertical-align: top;\n",
       "    }\n",
       "\n",
       "    .dataframe thead th {\n",
       "        text-align: right;\n",
       "    }\n",
       "</style>\n",
       "<table border=\"1\" class=\"dataframe\">\n",
       "  <thead>\n",
       "    <tr style=\"text-align: right;\">\n",
       "      <th></th>\n",
       "      <th>mean</th>\n",
       "    </tr>\n",
       "    <tr>\n",
       "      <th>version</th>\n",
       "      <th></th>\n",
       "    </tr>\n",
       "  </thead>\n",
       "  <tbody>\n",
       "    <tr>\n",
       "      <th>gate_30</th>\n",
       "      <td>0.190183</td>\n",
       "    </tr>\n",
       "    <tr>\n",
       "      <th>gate_40</th>\n",
       "      <td>0.182000</td>\n",
       "    </tr>\n",
       "  </tbody>\n",
       "</table>\n",
       "</div>"
      ],
      "text/plain": [
       "             mean\n",
       "version          \n",
       "gate_30  0.190183\n",
       "gate_40  0.182000"
      ]
     },
     "execution_count": 112,
     "metadata": {},
     "output_type": "execute_result"
    }
   ],
   "source": [
    "# счтааем долю активных игроков в седьмой день после скачивания\n",
    "print('Доля активных игроков в седьмой день после скачивания:')\n",
    "df.groupby('version')['retention_7'].agg(['mean'])"
   ]
  },
  {
   "cell_type": "markdown",
   "id": "5de35d78",
   "metadata": {},
   "source": [
    "В седьмой день осталось менее 20% установивших, новая версия снова отстаёт, теперь примерно на 0.8%. "
   ]
  },
  {
   "cell_type": "markdown",
   "id": "642cfa6a",
   "metadata": {},
   "source": [
    "### Как число пройденных уровней зависит от того, заходил ли игрок в приложение в 1-ый и в 7-ой день после скачивания?"
   ]
  },
  {
   "cell_type": "markdown",
   "id": "0d86dda4",
   "metadata": {},
   "source": [
    "Мы разобьём датасет на 4 отдельных в зависимости от наличия активности в 1-ый и 7-ой дни. В первом датасете будут те, кто скачал приложение, но ни в 1-ый, ни в 7-ой день туда не зашёл, второй и третий будут содержать данные о тех, кто зашёл в один из этих дней, четвёртый - о тех, кто заходил в оба дня."
   ]
  },
  {
   "cell_type": "code",
   "execution_count": 113,
   "id": "e43e6f1f",
   "metadata": {},
   "outputs": [
    {
     "name": "stdout",
     "output_type": "stream",
     "text": [
      "<class 'pandas.core.frame.DataFrame'>\n",
      "Int64Index: 90188 entries, 0 to 90188\n",
      "Data columns (total 4 columns):\n",
      " #   Column  Non-Null Count  Dtype  \n",
      "---  ------  --------------  -----  \n",
      " 0   none    46437 non-null  float64\n",
      " 1   only_1  26971 non-null  float64\n",
      " 2   only_7  3598 non-null   float64\n",
      " 3   both    13182 non-null  float64\n",
      "dtypes: float64(4)\n",
      "memory usage: 3.4 MB\n",
      "None\n",
      "\n",
      "Доля каждой группы от общего числа\n"
     ]
    },
    {
     "data": {
      "text/plain": [
       "none      0.514891\n",
       "only_1    0.299053\n",
       "only_7    0.039894\n",
       "both      0.146161\n",
       "dtype: float64"
      ]
     },
     "metadata": {},
     "output_type": "display_data"
    }
   ],
   "source": [
    "# создаём описанные выше таблицы\n",
    "df_none = df.query('~retention_1 and ~retention_7')['sum_gamerounds']\n",
    "df_1 = df.query('retention_1 and ~retention_7')['sum_gamerounds']\n",
    "df_7 = df.query('~retention_1 and retention_7')['sum_gamerounds']\n",
    "df_17 = df.query('retention_1 and retention_7')['sum_gamerounds']\n",
    "# собираем их в единый датафрейм и выводим информацию о нём\n",
    "df_rounds_ret = pd.DataFrame({'none':df_none, 'only_1':df_1, 'only_7':df_7, 'both':df_17})\n",
    "# собираем в таблицу данные о доле каждой группы\n",
    "df_rounds_ret_share = pd.Series({'none':len(df_none)/len(df), 'only_1':len(df_1)/len(df), \n",
    "                        'only_7':len(df_7)/len(df), 'both':len(df_17)/len(df)})\n",
    "print(df_rounds_ret.info(), end='\\n\\n')\n",
    "print('Доля каждой группы от общего числа')\n",
    "display(df_rounds_ret_share)"
   ]
  },
  {
   "cell_type": "markdown",
   "id": "0a877498",
   "metadata": {},
   "source": [
    "Мы видим, что около половины всех скачавших приложение не зашли ни в один из двух дней, меньше трети - только в первый из двух, постоянных игроков менее 15%. \n",
    "\n",
    "Посмотрим на боксплоты выброк числа уровней для каждой из групп."
   ]
  },
  {
   "cell_type": "code",
   "execution_count": 114,
   "id": "c42f44e8",
   "metadata": {},
   "outputs": [
    {
     "data": {
      "image/png": "[encoded data removed]",
      "text/plain": [
       "<Figure size 432x288 with 1 Axes>"
      ]
     },
     "metadata": {
      "needs_background": "light"
     },
     "output_type": "display_data"
    }
   ],
   "source": [
    "# боксплоты с выборками числа уровней для каждой группы\n",
    "df_rounds_ret.boxplot(showfliers=False)\n",
    "plt.ylabel(\"Сумма пройденных уровней\")\n",
    "plt.title('Боксплоты числа пройденных уровней в каждой из групп \\n')\n",
    "plt.show()"
   ]
  },
  {
   "cell_type": "markdown",
   "id": "cd060889",
   "metadata": {},
   "source": [
    "Как и следовало ожидать, самый заметный прогресс по уровням у тех, кто заходил в игру в оба дня, а у тех, кто зашёл только в 7-ой он больше, чем у тех, кто зашёл в только в 1-ый."
   ]
  },
  {
   "cell_type": "markdown",
   "id": "1b8d7241",
   "metadata": {},
   "source": [
    "### Сравнение набров игроков, дошедших до 30-го уровня"
   ]
  },
  {
   "cell_type": "markdown",
   "id": "e41a8cf6",
   "metadata": {},
   "source": [
    "Поскольку первые ворота в контрольной версии игры появляются только после 30-го уровня, а в альтернативной - и того позже, реальная разница между двумя версиями должна появляться только после достижения 30 уровня, до этого игроки обеих версий находятся в одинаковых условиях.\n",
    "\n",
    "Создадим новый датасет с только интересующими нас игроками и проведём с ним аналогичный анализ."
   ]
  },
  {
   "cell_type": "code",
   "execution_count": 115,
   "id": "da426489",
   "metadata": {},
   "outputs": [
    {
     "data": {
      "text/plain": [
       "(33268, 5)"
      ]
     },
     "execution_count": 115,
     "metadata": {},
     "output_type": "execute_result"
    }
   ],
   "source": [
    "#отсеим часть игроков и выведем параметры таблицы\n",
    "df_upd = df.query('sum_gamerounds >= 30')\n",
    "df_upd.shape"
   ]
  },
  {
   "cell_type": "code",
   "execution_count": 116,
   "id": "e3272782",
   "metadata": {},
   "outputs": [
    {
     "data": {
      "image/png": "[encoded data removed]",
      "text/plain": [
       "<Figure size 432x288 with 1 Axes>"
      ]
     },
     "metadata": {
      "needs_background": "light"
     },
     "output_type": "display_data"
    },
    {
     "data": {
      "image/png": "[encoded data removed]",
      "text/plain": [
       "<Figure size 432x288 with 1 Axes>"
      ]
     },
     "metadata": {
      "needs_background": "light"
     },
     "output_type": "display_data"
    },
    {
     "name": "stdout",
     "output_type": "stream",
     "text": [
      "Описание выборки для версии с воротами после 30 уровня\n",
      "count    16655.000000\n",
      "mean       122.092645\n",
      "std        140.954996\n",
      "min         30.000000\n",
      "25%         44.000000\n",
      "50%         72.000000\n",
      "75%        143.000000\n",
      "max       2961.000000\n",
      "Name: sum_gamerounds, dtype: float64\n",
      "Описание выборки для версии с воротами после 40 уровня\n",
      "count    16613.000000\n",
      "mean       124.466502\n",
      "std        143.779800\n",
      "min         30.000000\n",
      "25%         46.000000\n",
      "50%         75.000000\n",
      "75%        144.000000\n",
      "max       2640.000000\n",
      "Name: sum_gamerounds, dtype: float64\n"
     ]
    }
   ],
   "source": [
    "# строим ящик с усами данных о пройденных уровнях отдельно для каждой версии\n",
    "sns.boxplot(x = df_upd['version'], y = df_upd['sum_gamerounds'], color='yellowgreen')\n",
    "plt.ylabel(\"Сумма пройденных уровней\")\n",
    "plt.title('Боксплот выборок пройденных уровней \\n')\n",
    "plt.show()\n",
    "# строим ящик с усами данных о пройденных уровнях отдельно для каждой версии без выбросов\n",
    "sns.boxplot(x = df_upd['version'], y = df_upd['sum_gamerounds'], showfliers=False, color='yellowgreen')\n",
    "plt.ylabel(\"Сумма пройденных уровней\")\n",
    "plt.title('Боксплот выборок пройденных уровней без выбросов\\n')\n",
    "plt.show()\n",
    "#выводим описание выборок\n",
    "print('Описание выборки для версии с воротами после 30 уровня', df_upd.query('version == \"gate_30\"')['sum_gamerounds'].describe(), sep='\\n')\n",
    "print('Описание выборки для версии с воротами после 40 уровня', df_upd.query('version == \"gate_40\"')['sum_gamerounds'].describe(), sep='\\n')"
   ]
  },
  {
   "cell_type": "markdown",
   "id": "b8a40c39",
   "metadata": {},
   "source": [
    "Даже после отделения большой части данных эти наборы выглядят очень похоже, хотя стоит отметить сдвиг некоторых статистик второго набора (первые ворота на 40-ом уровне) вперёд на 1-2 уровня по сравнению с первым (первый квартиль, медиана, третий квартиль, среднее)."
   ]
  },
  {
   "cell_type": "markdown",
   "id": "422c83dd",
   "metadata": {},
   "source": [
    "Посчитаем, какая доля игроков заходила в игру в 1-ый день и 7-ой дни после скачивания для каждой из версий игры."
   ]
  },
  {
   "cell_type": "code",
   "execution_count": 117,
   "id": "0a10e837",
   "metadata": {},
   "outputs": [
    {
     "name": "stdout",
     "output_type": "stream",
     "text": [
      "Доля активных игроков в первый день после скачивания:\n"
     ]
    },
    {
     "data": {
      "text/html": [
       "<div>\n",
       "<style scoped>\n",
       "    .dataframe tbody tr th:only-of-type {\n",
       "        vertical-align: middle;\n",
       "    }\n",
       "\n",
       "    .dataframe tbody tr th {\n",
       "        vertical-align: top;\n",
       "    }\n",
       "\n",
       "    .dataframe thead th {\n",
       "        text-align: right;\n",
       "    }\n",
       "</style>\n",
       "<table border=\"1\" class=\"dataframe\">\n",
       "  <thead>\n",
       "    <tr style=\"text-align: right;\">\n",
       "      <th></th>\n",
       "      <th>mean</th>\n",
       "    </tr>\n",
       "    <tr>\n",
       "      <th>version</th>\n",
       "      <th></th>\n",
       "    </tr>\n",
       "  </thead>\n",
       "  <tbody>\n",
       "    <tr>\n",
       "      <th>gate_30</th>\n",
       "      <td>0.801021</td>\n",
       "    </tr>\n",
       "    <tr>\n",
       "      <th>gate_40</th>\n",
       "      <td>0.801842</td>\n",
       "    </tr>\n",
       "  </tbody>\n",
       "</table>\n",
       "</div>"
      ],
      "text/plain": [
       "             mean\n",
       "version          \n",
       "gate_30  0.801021\n",
       "gate_40  0.801842"
      ]
     },
     "execution_count": 117,
     "metadata": {},
     "output_type": "execute_result"
    }
   ],
   "source": [
    "# считаем долю активных игроков в первый день после скачивания\n",
    "print('Доля активных игроков в первый день после скачивания:')\n",
    "df_upd.groupby('version')['retention_1'].agg(['mean'])"
   ]
  },
  {
   "cell_type": "markdown",
   "id": "17138df0",
   "metadata": {},
   "source": [
    "Как и следовало ожидать, среди достигших аж 30-ый уровень доля активных в первый день будет заметно выше. Для второй версии видим маленький перевес менее 0.1%."
   ]
  },
  {
   "cell_type": "code",
   "execution_count": 118,
   "id": "cacb5a21",
   "metadata": {},
   "outputs": [
    {
     "name": "stdout",
     "output_type": "stream",
     "text": [
      "Доля активных игроков в седьмой день после скачивания:\n"
     ]
    },
    {
     "data": {
      "text/html": [
       "<div>\n",
       "<style scoped>\n",
       "    .dataframe tbody tr th:only-of-type {\n",
       "        vertical-align: middle;\n",
       "    }\n",
       "\n",
       "    .dataframe tbody tr th {\n",
       "        vertical-align: top;\n",
       "    }\n",
       "\n",
       "    .dataframe thead th {\n",
       "        text-align: right;\n",
       "    }\n",
       "</style>\n",
       "<table border=\"1\" class=\"dataframe\">\n",
       "  <thead>\n",
       "    <tr style=\"text-align: right;\">\n",
       "      <th></th>\n",
       "      <th>mean</th>\n",
       "    </tr>\n",
       "    <tr>\n",
       "      <th>version</th>\n",
       "      <th></th>\n",
       "    </tr>\n",
       "  </thead>\n",
       "  <tbody>\n",
       "    <tr>\n",
       "      <th>gate_30</th>\n",
       "      <td>0.438727</td>\n",
       "    </tr>\n",
       "    <tr>\n",
       "      <th>gate_40</th>\n",
       "      <td>0.430025</td>\n",
       "    </tr>\n",
       "  </tbody>\n",
       "</table>\n",
       "</div>"
      ],
      "text/plain": [
       "             mean\n",
       "version          \n",
       "gate_30  0.438727\n",
       "gate_40  0.430025"
      ]
     },
     "execution_count": 118,
     "metadata": {},
     "output_type": "execute_result"
    }
   ],
   "source": [
    "# считаем долю активных игроков в седьмой день после скачивания\n",
    "print('Доля активных игроков в седьмой день после скачивания:')\n",
    "df_upd.groupby('version')['retention_7'].agg(['mean'])"
   ]
  },
  {
   "cell_type": "markdown",
   "id": "26e97965",
   "metadata": {},
   "source": [
    "По сравнению с первым днём число активных игроков упало в два раза. В случае контрольной версии почти на 1% больше игроков."
   ]
  },
  {
   "cell_type": "markdown",
   "id": "d5ae2b93",
   "metadata": {},
   "source": [
    "## A/B-тестирование"
   ]
  },
  {
   "cell_type": "markdown",
   "id": "0005dcf4",
   "metadata": {},
   "source": [
    "Поскольку до достижения 30-го уровня игроки обеих групп находятся в одинаковых условиях, будем анализировать данные только о тех, кто дошёл до 30-го уровня."
   ]
  },
  {
   "cell_type": "markdown",
   "id": "3c35da1d",
   "metadata": {},
   "source": [
    "### Активность в 1-ый день после скачивания"
   ]
  },
  {
   "cell_type": "code",
   "execution_count": 119,
   "id": "9b62d9a2",
   "metadata": {},
   "outputs": [
    {
     "data": {
      "text/html": [
       "<div>\n",
       "<style scoped>\n",
       "    .dataframe tbody tr th:only-of-type {\n",
       "        vertical-align: middle;\n",
       "    }\n",
       "\n",
       "    .dataframe tbody tr th {\n",
       "        vertical-align: top;\n",
       "    }\n",
       "\n",
       "    .dataframe thead th {\n",
       "        text-align: right;\n",
       "    }\n",
       "</style>\n",
       "<table border=\"1\" class=\"dataframe\">\n",
       "  <thead>\n",
       "    <tr style=\"text-align: right;\">\n",
       "      <th></th>\n",
       "      <th>mean</th>\n",
       "      <th>count</th>\n",
       "      <th>sum</th>\n",
       "    </tr>\n",
       "    <tr>\n",
       "      <th>version</th>\n",
       "      <th></th>\n",
       "      <th></th>\n",
       "      <th></th>\n",
       "    </tr>\n",
       "  </thead>\n",
       "  <tbody>\n",
       "    <tr>\n",
       "      <th>gate_30</th>\n",
       "      <td>0.801021</td>\n",
       "      <td>16655</td>\n",
       "      <td>13341</td>\n",
       "    </tr>\n",
       "    <tr>\n",
       "      <th>gate_40</th>\n",
       "      <td>0.801842</td>\n",
       "      <td>16613</td>\n",
       "      <td>13321</td>\n",
       "    </tr>\n",
       "  </tbody>\n",
       "</table>\n",
       "</div>"
      ],
      "text/plain": [
       "             mean  count    sum\n",
       "version                        \n",
       "gate_30  0.801021  16655  13341\n",
       "gate_40  0.801842  16613  13321"
      ]
     },
     "metadata": {},
     "output_type": "display_data"
    }
   ],
   "source": [
    "# группируем игроков по версии, считаем среднее, число строк и сумму по столбцу с данными об активности в первый день\n",
    "df_ret1 = df_upd.groupby('version')['retention_1'].agg(['mean', 'count', 'sum'])\n",
    "display(df_ret1)"
   ]
  },
  {
   "cell_type": "markdown",
   "id": "3ca5936b",
   "metadata": {},
   "source": [
    "Для проверки гипотезы о равенстве долей игроков, заходивших в игру в первый день, воспользуемся предположением о независимости и одинаковой распределённости отдельных наблюдений. Тогда, согласно ЦПТ, мы сможем считать эту величину нормально распределённой.\n",
    "Для проверки гипотез используем тест на равенство долей. \n",
    "Сформулируем нулевую и альтернативную гипотезы:\n",
    "\n",
    "*H0: p40 = p30*\n",
    "\n",
    "*H1: p40 > p30*\n",
    "\n",
    "Зададим уровень значимости 5%."
   ]
  },
  {
   "cell_type": "code",
   "execution_count": 120,
   "id": "0d40c31f",
   "metadata": {},
   "outputs": [
    {
     "name": "stdout",
     "output_type": "stream",
     "text": [
      "Значение z-статистики: -0.188, p-value: 0.426\n"
     ]
    }
   ],
   "source": [
    "# считаем значение статистики и p-value\n",
    "zstat, pvalue = proportions_ztest(df_ret1['sum'].values, df_ret1['count'].values, alternative='smaller')\n",
    "print(f'Значение z-статистики: {zstat:.3}, p-value: {pvalue:.3}')"
   ]
  },
  {
   "cell_type": "markdown",
   "id": "a4e881a4",
   "metadata": {},
   "source": [
    "P-value оказался заметно выше уровня значимости, следовательно, мы не можем отвергнуть нулевую гипотезу о равенстве долей."
   ]
  },
  {
   "cell_type": "markdown",
   "id": "986c1e08",
   "metadata": {},
   "source": [
    "### Активность в 7-ой день после скачивания"
   ]
  },
  {
   "cell_type": "code",
   "execution_count": 121,
   "id": "d6f757b5",
   "metadata": {},
   "outputs": [
    {
     "data": {
      "text/html": [
       "<div>\n",
       "<style scoped>\n",
       "    .dataframe tbody tr th:only-of-type {\n",
       "        vertical-align: middle;\n",
       "    }\n",
       "\n",
       "    .dataframe tbody tr th {\n",
       "        vertical-align: top;\n",
       "    }\n",
       "\n",
       "    .dataframe thead th {\n",
       "        text-align: right;\n",
       "    }\n",
       "</style>\n",
       "<table border=\"1\" class=\"dataframe\">\n",
       "  <thead>\n",
       "    <tr style=\"text-align: right;\">\n",
       "      <th></th>\n",
       "      <th>mean</th>\n",
       "      <th>count</th>\n",
       "      <th>sum</th>\n",
       "    </tr>\n",
       "    <tr>\n",
       "      <th>version</th>\n",
       "      <th></th>\n",
       "      <th></th>\n",
       "      <th></th>\n",
       "    </tr>\n",
       "  </thead>\n",
       "  <tbody>\n",
       "    <tr>\n",
       "      <th>gate_30</th>\n",
       "      <td>0.438727</td>\n",
       "      <td>16655</td>\n",
       "      <td>7307</td>\n",
       "    </tr>\n",
       "    <tr>\n",
       "      <th>gate_40</th>\n",
       "      <td>0.430025</td>\n",
       "      <td>16613</td>\n",
       "      <td>7144</td>\n",
       "    </tr>\n",
       "  </tbody>\n",
       "</table>\n",
       "</div>"
      ],
      "text/plain": [
       "             mean  count   sum\n",
       "version                       \n",
       "gate_30  0.438727  16655  7307\n",
       "gate_40  0.430025  16613  7144"
      ]
     },
     "metadata": {},
     "output_type": "display_data"
    }
   ],
   "source": [
    "# группируем игроков по версии, считаем среднее, число строк и сумму по столбцу с данными об активности в седбмой день\n",
    "df_ret7 = df_upd.groupby('version')['retention_7'].agg(['mean', 'count', 'sum'])\n",
    "display(df_ret7)"
   ]
  },
  {
   "cell_type": "markdown",
   "id": "079e54c7",
   "metadata": {},
   "source": [
    "Как и в предыдущем случае, для проверки гипотез используем тест на равенство долей. \n",
    "Сформулируем нулевую и альтернативную гипотезы:\n",
    "\n",
    "*H0: p40 = p30*\n",
    "\n",
    "*H1: p40 < p30*\n",
    "\n",
    "Зададим уровень значимости alpha = 0.05."
   ]
  },
  {
   "cell_type": "code",
   "execution_count": 122,
   "id": "4fa36908",
   "metadata": {},
   "outputs": [
    {
     "name": "stdout",
     "output_type": "stream",
     "text": [
      "Значение z-статистики: 1.6, p-value: 0.0547\n"
     ]
    }
   ],
   "source": [
    "# считаем значение статистики и p-value\n",
    "zstat, pvalue = proportions_ztest(df_ret7['sum'].values, df_ret7['count'].values, alternative='larger')\n",
    "print(f'Значение z-статистики: {zstat:.3}, p-value: {pvalue:.3}')"
   ]
  },
  {
   "cell_type": "markdown",
   "id": "ce599e5b",
   "metadata": {},
   "source": [
    "P-value оказался выше уровня значимости, не можем отвергнуть нулевую гипотезу о равенстве долей."
   ]
  },
  {
   "cell_type": "markdown",
   "id": "52c66bc1",
   "metadata": {},
   "source": [
    "### Число пройденных уровней"
   ]
  },
  {
   "cell_type": "markdown",
   "id": "70896960",
   "metadata": {},
   "source": [
    "Теперь мы хотим понять, есть ли сдвиг между распределениями числа пройденных уровней, или обе выборки можно считать взятыми из одной генеральной совокупности. С помощью критерия Шапиро-Уилка, как наиболее мощного критерия для проверки нормальности, проверим, можно ли считать генральные совокупности нормально распределёнными. Если гипотеза о нормальности не будет отвергнута, для проверки гипотезы об однородности воспользуемся критерием Стьюдента, в противном случае воспользуемся непараметрическим критерием Манна-Уитни.\n",
    "\n",
    "Для обеих выброк нулевая и альтернативная гипотезы будут выглядеть одинаково:\n",
    "\n",
    "*H0: ГС нормально распределена*\n",
    "\n",
    "*H1: ГС имеет другой закон распределения*\n",
    "\n",
    "Зададим уровень значимости 5%."
   ]
  },
  {
   "cell_type": "code",
   "execution_count": 123,
   "id": "5a900308",
   "metadata": {},
   "outputs": [
    {
     "name": "stdout",
     "output_type": "stream",
     "text": [
      "Значение статистики для первой выборки: 0.607, p-value: 0.0\n",
      "Значение статистики для второй выборки: 0.6, p-value: 0.0\n"
     ]
    }
   ],
   "source": [
    "# считаем значение статистики и p-value для обеих выброк\n",
    "statistic, pvalue = shapiro(df_upd.query('version == \"gate_30\"')['sum_gamerounds'].values)\n",
    "print(f'Значение статистики для первой выборки: {statistic:.3}, p-value: {pvalue:.3}')\n",
    "\n",
    "statistic, pvalue = shapiro(df_upd.query('version == \"gate_40\"')['sum_gamerounds'].values)\n",
    "print(f'Значение статистики для второй выборки: {statistic:.3}, p-value: {pvalue:.3}')"
   ]
  },
  {
   "cell_type": "markdown",
   "id": "59d32c2c",
   "metadata": {},
   "source": [
    "Отвергаем гипотезу о нормальной распределённости для обеих ГС.\n",
    "\n",
    "Стало быть, для проверки гипотезы о наличии сдвига используем непараметрический критерий Манна-Уитни.\n",
    "Сформулируем нулевую и альтернативную гипотезы:\n",
    "\n",
    "*H0: две генеральные совокупности одинаково распределены*\n",
    "\n",
    "*H1: две генеральные совокупности имеют разные функции распределения*\n",
    "\n",
    "Зададим уровень значимости 5%."
   ]
  },
  {
   "cell_type": "code",
   "execution_count": 129,
   "id": "d3a8cd1e",
   "metadata": {},
   "outputs": [
    {
     "name": "stdout",
     "output_type": "stream",
     "text": [
      "Значение u-статистики: 1.35e+08, p-value: 0.000104\n"
     ]
    }
   ],
   "source": [
    "# считаем значение статистики и p-value для обеих выброк\n",
    "statistic, pvalue = mannwhitneyu(df_upd.query('version == \"gate_30\"')['sum_gamerounds'].values, \n",
    "                                 df_upd.query('version == \"gate_40\"')['sum_gamerounds'].values)\n",
    "print(f'Значение u-статистики: {statistic:.3}, p-value: {pvalue:.3}')"
   ]
  },
  {
   "cell_type": "markdown",
   "id": "013e385b",
   "metadata": {},
   "source": [
    "P-value значительно ниже уровня значимости, отвергаем нулевую гипотезу и считаем, что выборки взяты из разных распределений. И как мы видели на боксплотах, характеристики положения второй выборки действительно немного сдвинуты вправо по сравнению с характеристиками положения контрольной выборки."
   ]
  },
  {
   "cell_type": "markdown",
   "id": "d962a634",
   "metadata": {},
   "source": [
    "## Выводы"
   ]
  },
  {
   "cell_type": "markdown",
   "id": "96e51a4b",
   "metadata": {},
   "source": [
    "1) Первое, что обращает на себя внимание: более половины игроков не заходили в игру ни в первый, ни седьмой день после скачивания, второе - больше половины прошли за 7 дней не более 20 уровней, а значит, не дошли даже до первых ворот.\n",
    "\n",
    "2) Как и следовало ожидать, более активные игроки показывают заметно лучший прогресс в прохождении уровней, очевидный вывод: важно мотивировать пользователей играть как можно чаще. \n",
    "\n",
    "3) Как следует из результатов тестирования, перемещение ворот с 30-го на 40-ой уровень почти не влияет на уровень активности игроков в 1-ый или 7-ой день после скачивания.\n",
    "\n",
    "4) Был заметен небольшой сдвиг вправо в распределении числа пройденных уровней в версии с воротами на 40-ом уровне по сравнению с контрольной версией.\n",
    "\n",
    "Дополнительно было бы интересно проанализировать, сколько игроков заплатило за преодоление ворот в каждой из версии, но, к сожалению, мы не располагаем этими данными."
   ]
  },
  {
   "cell_type": "code",
   "execution_count": null,
   "id": "8bee7933",
   "metadata": {},
   "outputs": [],
   "source": []
  }
 ],
 "metadata": {
  "kernelspec": {
   "display_name": "Python 3 (ipykernel)",
   "language": "python",
   "name": "python3"
  },
  "language_info": {
   "codemirror_mode": {
    "name": "ipython",
    "version": 3
   },
   "file_extension": ".py",
   "mimetype": "text/x-python",
   "name": "python",
   "nbconvert_exporter": "python",
   "pygments_lexer": "ipython3",
   "version": "3.9.7"
  }
 },
 "nbformat": 4,
 "nbformat_minor": 5
}
